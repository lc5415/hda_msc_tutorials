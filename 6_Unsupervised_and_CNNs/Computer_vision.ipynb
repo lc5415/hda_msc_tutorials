{
 "cells": [
  {
   "cell_type": "code",
   "execution_count": 2,
   "metadata": {},
   "outputs": [
    {
     "name": "stderr",
     "output_type": "stream",
     "text": [
      "Using TensorFlow backend.\n"
     ]
    }
   ],
   "source": [
    "from __future__ import print_function\n",
    "import keras\n",
    "from keras.datasets import mnist\n",
    "from keras.models import Sequential\n",
    "from keras.layers import Dense, Dropout, Flatten\n",
    "from keras.layers import Conv2D, MaxPooling2D\n",
    "from keras import backend as K"
   ]
  },
  {
   "cell_type": "markdown",
   "metadata": {},
   "source": [
    "### Intro\n",
    "In this notebook we will show you how to create a simple model to classify images of handwritten digits (from 0 to 9). Your task is then to build a convolutional network that outperforms the simple model."
   ]
  },
  {
   "cell_type": "markdown",
   "metadata": {},
   "source": [
    "### Define our setup parameters and import data"
   ]
  },
  {
   "cell_type": "code",
   "execution_count": 3,
   "metadata": {},
   "outputs": [
    {
     "name": "stdout",
     "output_type": "stream",
     "text": [
      "Downloading data from https://s3.amazonaws.com/img-datasets/mnist.npz\n",
      "11493376/11490434 [==============================] - 4s 0us/step\n"
     ]
    }
   ],
   "source": [
    "batch_size = 128\n",
    "num_classes = 10\n",
    "epochs = 5\n",
    "\n",
    "# Define our image dimensions\n",
    "img_rows, img_cols = 28, 28\n",
    "\n",
    "# Import the data, split between train and test sets\n",
    "(x_train, y_train), (x_test, y_test) = mnist.load_data()\n",
    "\n",
    "# Normalise data\n",
    "x_train = x_train.astype('float32')\n",
    "x_test = x_test.astype('float32')\n",
    "x_train /= 255\n",
    "x_test /= 255\n",
    "\n",
    "# Convert class vectors to binary class matrices\n",
    "y_train = keras.utils.to_categorical(y_train, num_classes)\n",
    "y_test = keras.utils.to_categorical(y_test, num_classes)\n",
    "\n",
    "# Set data ordering\n",
    "if K.image_data_format() == 'channels_first':\n",
    "    x_train = x_train.reshape(x_train.shape[0], 1, img_rows, img_cols)\n",
    "    x_test = x_test.reshape(x_test.shape[0], 1, img_rows, img_cols)\n",
    "    input_shape = (1, img_rows, img_cols)\n",
    "else:\n",
    "    x_train = x_train.reshape(x_train.shape[0], img_rows, img_cols, 1)\n",
    "    x_test = x_test.reshape(x_test.shape[0], img_rows, img_cols, 1)\n",
    "    input_shape = (img_rows, img_cols, 1)"
   ]
  },
  {
   "cell_type": "markdown",
   "metadata": {},
   "source": [
    "### Create our simple model  \n",
    "*Fun task: Can you identify what kind of model this is?*"
   ]
  },
  {
   "cell_type": "code",
   "execution_count": 5,
   "metadata": {},
   "outputs": [
    {
     "data": {
      "text/plain": [
       "(60000, 28, 28, 1)"
      ]
     },
     "execution_count": 5,
     "metadata": {},
     "output_type": "execute_result"
    }
   ],
   "source": [
    "simplemodel = Sequential()\n",
    "simplemodel.add(Flatten())\n",
    "simplemodel.add(Dense(num_classes, activation='softmax', use_bias=True))\n",
    "\n",
    "\n",
    "# Compile the model\n",
    "simplemodel.compile(loss=keras.losses.categorical_crossentropy,\n",
    "              optimizer=keras.optimizers.Adadelta(),\n",
    "              metrics=['accuracy'])"
   ]
  },
  {
   "cell_type": "markdown",
   "metadata": {},
   "source": [
    "### Train and test the model  \n",
    "\n",
    "What test accuracy do you get after 5 epochs?"
   ]
  },
  {
   "cell_type": "code",
   "execution_count": 6,
   "metadata": {},
   "outputs": [
    {
     "name": "stdout",
     "output_type": "stream",
     "text": [
      "Train on 60000 samples, validate on 10000 samples\n",
      "Epoch 1/5\n",
      "60000/60000 [==============================] - 4s 75us/step - loss: 0.6525 - accuracy: 0.8384 - val_loss: 0.3664 - val_accuracy: 0.9020\n",
      "Epoch 2/5\n",
      "60000/60000 [==============================] - 3s 55us/step - loss: 0.3508 - accuracy: 0.9032 - val_loss: 0.3118 - val_accuracy: 0.9141\n",
      "Epoch 3/5\n",
      "60000/60000 [==============================] - 3s 52us/step - loss: 0.3160 - accuracy: 0.9120 - val_loss: 0.2952 - val_accuracy: 0.9175\n",
      "Epoch 4/5\n",
      "60000/60000 [==============================] - 3s 46us/step - loss: 0.3005 - accuracy: 0.9159 - val_loss: 0.2860 - val_accuracy: 0.9204\n",
      "Epoch 5/5\n",
      "60000/60000 [==============================] - 2s 41us/step - loss: 0.2916 - accuracy: 0.9191 - val_loss: 0.2803 - val_accuracy: 0.9221\n",
      "Test loss: 0.28029323471486567\n",
      "Test accuracy: 0.9221000075340271\n"
     ]
    }
   ],
   "source": [
    "simplemodel.fit(x_train, y_train,\n",
    "          batch_size=batch_size,\n",
    "          epochs=epochs,\n",
    "          verbose=1,\n",
    "          validation_data=(x_test, y_test))\n",
    "score = simplemodel.evaluate(x_test, y_test, verbose=0)\n",
    "print('Test loss:', score[0])\n",
    "print('Test accuracy:', score[1])"
   ]
  },
  {
   "cell_type": "markdown",
   "metadata": {},
   "source": [
    "### The Task: Create a model using convolutional layers that performs better than the simple model  \n",
    "Follow the syntax for creating a model above to create a convolutional model using `model.add(somelayer)`  \n",
    "You should aim to get above 97% accuracy on the test set.  \n",
    "*hints:  learning rate, regularisation, number of epochs, which activation in the final layer, which optimiser to use*"
   ]
  },
  {
   "cell_type": "markdown",
   "metadata": {},
   "source": [
    "![Convolution](https://miro.medium.com/max/790/1*1okwhewf5KCtIPaFib4XaA.gif)"
   ]
  },
  {
   "cell_type": "code",
   "execution_count": 20,
   "metadata": {},
   "outputs": [
    {
     "name": "stdout",
     "output_type": "stream",
     "text": [
      "Train on 60000 samples, validate on 10000 samples\n",
      "Epoch 1/5\n",
      "60000/60000 [==============================] - 74s 1ms/step - loss: 0.2566 - accuracy: 0.9225 - val_loss: 0.0795 - val_accuracy: 0.9760\n",
      "Epoch 2/5\n",
      "60000/60000 [==============================] - 72s 1ms/step - loss: 0.0838 - accuracy: 0.9755 - val_loss: 0.0543 - val_accuracy: 0.9811\n",
      "Epoch 3/5\n",
      "60000/60000 [==============================] - 74s 1ms/step - loss: 0.0640 - accuracy: 0.9807 - val_loss: 0.0457 - val_accuracy: 0.9861\n",
      "Epoch 4/5\n",
      "60000/60000 [==============================] - 80s 1ms/step - loss: 0.0532 - accuracy: 0.9843 - val_loss: 0.0419 - val_accuracy: 0.9863\n",
      "Epoch 5/5\n",
      "60000/60000 [==============================] - 77s 1ms/step - loss: 0.0478 - accuracy: 0.9857 - val_loss: 0.0405 - val_accuracy: 0.9882\n",
      "Test loss: 0.04051326743159443\n",
      "Test accuracy: 0.9882000088691711\n"
     ]
    }
   ],
   "source": [
    "model = Sequential()\n",
    "\n",
    "### Your model here ###\n",
    "### remember: the final layer should have 10 outputs ###\n",
    "\n",
    "# note the input shape does not need to be CxHxW\n",
    "model.add(Conv2D(32, (3, 3), activation='relu', input_shape=(28,28,1)))\n",
    "model.add(Conv2D(32, (3, 3), activation='relu'))\n",
    "model.add(MaxPooling2D(pool_size=(2,2)))\n",
    "model.add(Dropout(0.25))\n",
    "model.add(Flatten())\n",
    "# The input shape parameter should be the shape of 1 sample. In this case, it's the same (1, 28, 28) \n",
    "# that corresponds to  the (depth, width, height) of each digit image.\n",
    "model.add(Dense(num_classes, activation='softmax', use_bias=True))\n",
    "\n",
    "\n",
    "## Useful layers:\n",
    "## Conv2D(filters=int, kernel_size=(int, int), activation='myactivation', input_shape=input_shape)\n",
    "## MaxPooling2D(pool_size=(int, int))\n",
    "## Dense(int, activation)\n",
    "## Dropout(float)\n",
    "\n",
    "## Useful activations:\n",
    "## 'sigmoid'\n",
    "## 'tanh'\n",
    "## 'relu'\n",
    "## 'softmax'\n",
    "\n",
    "# Compile the model\n",
    "model.compile(loss=keras.losses.categorical_crossentropy,\n",
    "              optimizer=keras.optimizers.Adadelta(),\n",
    "              metrics=['accuracy'])\n",
    "\n",
    "# Train and test our new model\n",
    "model.fit(x_train, y_train,\n",
    "          batch_size=batch_size,\n",
    "          epochs=epochs,\n",
    "          verbose=1,\n",
    "          validation_data=(x_test, y_test))\n",
    "score = model.evaluate(x_test, y_test, verbose=0)\n",
    "print('Test loss:', score[0])\n",
    "print('Test accuracy:', score[1])"
   ]
  },
  {
   "cell_type": "code",
   "execution_count": null,
   "metadata": {},
   "outputs": [],
   "source": []
  }
 ],
 "metadata": {
  "kernelspec": {
   "display_name": "Python 3",
   "language": "python",
   "name": "python3"
  },
  "language_info": {
   "codemirror_mode": {
    "name": "ipython",
    "version": 3
   },
   "file_extension": ".py",
   "mimetype": "text/x-python",
   "name": "python",
   "nbconvert_exporter": "python",
   "pygments_lexer": "ipython3",
   "version": "3.7.4"
  }
 },
 "nbformat": 4,
 "nbformat_minor": 4
}
